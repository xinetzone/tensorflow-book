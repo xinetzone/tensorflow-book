{
  "cells": [
    {
      "cell_type": "code",
      "execution_count": null,
      "metadata": {
        "id": "_jQ1tEQCxwRx"
      },
      "outputs": [],
      "source": [
        "##### Copyright 2020 The TensorFlow Authors."
      ]
    },
    {
      "cell_type": "code",
      "execution_count": null,
      "metadata": {
        "cellView": "form",
        "id": "V_sgB_5dx1f1"
      },
      "outputs": [],
      "source": [
        "#@title Licensed under the Apache License, Version 2.0 (the \"License\");\n",
        "# you may not use this file except in compliance with the License.\n",
        "# You may obtain a copy of the License at\n",
        "#\n",
        "# https://www.apache.org/licenses/LICENSE-2.0\n",
        "#\n",
        "# Unless required by applicable law or agreed to in writing, software\n",
        "# distributed under the License is distributed on an \"AS IS\" BASIS,\n",
        "# WITHOUT WARRANTIES OR CONDITIONS OF ANY KIND, either express or implied.\n",
        "# See the License for the specific language governing permissions and\n",
        "# limitations under the License."
      ]
    },
    {
      "cell_type": "code",
      "execution_count": 1,
      "metadata": {},
      "outputs": [],
      "source": [
        "import os\n",
        "os.environ['TF_CPP_MIN_LOG_LEVEL'] = '3'  # 设置日志级别为ERROR，以减少警告信息\n",
        "# 禁用 Gemini 的底层库（gRPC 和 Abseil）在初始化日志警告\n",
        "os.environ[\"GRPC_VERBOSITY\"] = \"ERROR\"\n",
        "os.environ[\"GLOG_minloglevel\"] = \"3\"  # 0: INFO, 1: WARNING, 2: ERROR, 3: FATAL\n",
        "os.environ[\"GLOG_minloglevel\"] = \"true\"\n",
        "import logging\n",
        "import tensorflow as tf\n",
        "tf.get_logger().setLevel(logging.ERROR)\n",
        "tf.compat.v1.logging.set_verbosity(tf.compat.v1.logging.ERROR)\n",
        "!export TF_FORCE_GPU_ALLOW_GROWTH=true\n",
        "from pathlib import Path\n",
        "\n",
        "temp_dir = Path(\".temp\")\n",
        "temp_dir.mkdir(parents=True, exist_ok=True)"
      ]
    },
    {
      "cell_type": "markdown",
      "metadata": {
        "id": "p62G8M_viUJp"
      },
      "source": [
        "# 使用 Actor-Critic 方法玩 CartPole 游戏\n"
      ]
    },
    {
      "cell_type": "markdown",
      "metadata": {
        "id": "-mJ2i6jvZ3sK"
      },
      "source": [
        "<table class=\"tfo-notebook-buttons\" align=\"left\">\n",
        "  <td><a target=\"_blank\" href=\"https://tensorflow.google.cn/tutorials/reinforcement_learning/actor_critic\"><img src=\"https://tensorflow.google.cn/images/tf_logo_32px.png\">在 TensorFlow.org 上查看</a></td>\n",
        "  <td><a target=\"_blank\" href=\"https://colab.research.google.com/github/tensorflow/docs-l10n/blob/master/site/zh-cn/tutorials/reinforcement_learning/actor_critic.ipynb\"><img src=\"https://tensorflow.google.cn/images/colab_logo_32px.png\">在 Google Colab 中运行</a></td>\n",
        "  <td><a target=\"_blank\" href=\"https://github.com/tensorflow/docs-l10n/blob/master/site/zh-cn/tutorials/reinforcement_learning/actor_critic.ipynb\"><img src=\"https://tensorflow.google.cn/images/GitHub-Mark-32px.png\">在 GitHub 上查看源代码</a></td>\n",
        "  <td><a href=\"https://storage.googleapis.com/tensorflow_docs/docs-l10n/site/zh-cn/tutorials/reinforcement_learning/actor_critic.ipynb\"><img src=\"https://tensorflow.google.cn/images/download_logo_32px.png\">下载笔记本</a></td>\n",
        "</table>"
      ]
    },
    {
      "cell_type": "markdown",
      "metadata": {
        "id": "kFgN7h_wiUJq"
      },
      "source": [
        "本教程演示如何使用 TensorFlow 实现 [Actor-Critic](https://papers.nips.cc/paper/1786-actor-critic-algorithms.pdf) 方法以在 [Open AI Gym](https://www.gymlibrary.dev/) [`CartPole-v0`](https://www.gymlibrary.dev/environments/classic_control/cart_pole/) 环境中训练代理。假定读者对[（深度）强化学习](https://papers.nips.cc/paper/1713-policy-gradient-methods-for-reinforcement-learning-with-function-approximation.pdf)的[策略梯度方法](https://en.wikipedia.org/wiki/Deep_reinforcement_learning)有所了解。\n"
      ]
    },
    {
      "cell_type": "markdown",
      "metadata": {
        "id": "_kA10ZKRR0hi"
      },
      "source": [
        "**Actor-Critic 方法**\n",
        "\n",
        "Actor-Critic 方法是表示与价值函数无关的策略函数的[时间差分 (TD) 学习](https://en.wikipedia.org/wiki/Temporal_difference_learning)方法。\n",
        "\n",
        "策略函数（或策略）返回代理基于给定状态可以采取的动作的概率分布。价值函数确定从给定状态开始并在此后永远根据特定策略运行的代理的预期回报。\n",
        "\n",
        "在 Actor-Critic 方法中，策略被称为*行动者*，它根据给定状态提出一组可能的动作，而估算的价值函数则被称为*评价者*，它根据给定的策略评估*行动者*所采取的动作。\n",
        "\n",
        "在本教程中，将使用一个具有两个输出的神经网络来表示*行动者*和*评价者*。\n"
      ]
    },
    {
      "cell_type": "markdown",
      "metadata": {
        "id": "rBfiafKSRs2k"
      },
      "source": [
        "**`CartPole-v0`**\n",
        "\n",
        "在 [`CartPole-v0` 环境](https://www.gymlibrary.dev/environments/classic_control/cart_pole/)中，将长杆连接到沿无摩擦轨道移动的小车上。长杆开始时是直立的，代理的目标是通过对小车施加 `-1` 或 `+1` 的力来防止其倒下。对于长杆保持直立的每个时间步骤，奖励为 `+1`。当 1) 长杆与垂直方向的夹角超过 15 度或 2) 小车从中心移出超过 2.4 个单位时，片段结束。\n",
        "\n",
        "<center>\n",
        "  <pre data-md-type=\"custom_pre\">&lt;figure&gt;\n",
        "    &lt;image src=\"https://tensorflow.org/tutorials/reinforcement_learning/images/cartpole-v0.gif\"&gt;\n",
        "    &lt;figcaption&gt;\n",
        "      Trained actor-critic model in Cartpole-v0 environment\n",
        "    &lt;/figcaption&gt;\n",
        "  &lt;/figure&gt;</pre>\n",
        "</center>\n"
      ]
    },
    {
      "cell_type": "markdown",
      "metadata": {
        "id": "XSNVK0AeRoJd"
      },
      "source": [
        "在 100 次连续试验中，当片段的平均总奖励达到 195 时，问题被视为“已解决”。"
      ]
    },
    {
      "cell_type": "markdown",
      "metadata": {
        "id": "glLwIctHiUJq"
      },
      "source": [
        "## 安装\n",
        "\n",
        "导入必要的软件包并配置全局设置。\n"
      ]
    },
    {
      "cell_type": "code",
      "execution_count": 2,
      "metadata": {
        "id": "13l6BbxKhCKp"
      },
      "outputs": [],
      "source": [
        "!pip install -q gymnasium[classic_control]\n",
        "!pip install -q pyglet"
      ]
    },
    {
      "cell_type": "code",
      "execution_count": 3,
      "metadata": {
        "id": "WBeQhPi2S4m5"
      },
      "outputs": [],
      "source": [
        "%%bash\n",
        "# Install additional packages for visualization\n",
        "sudo apt-get install -y python-opengl > /dev/null 2>&1\n",
        "pip install git+https://github.com/tensorflow/docs > /dev/null 2>&1"
      ]
    },
    {
      "cell_type": "code",
      "execution_count": 5,
      "metadata": {
        "id": "tT4N3qYviUJr"
      },
      "outputs": [],
      "source": [
        "import collections\n",
        "import gymnasium as gym\n",
        "import numpy as np\n",
        "import statistics\n",
        "import tensorflow as tf\n",
        "import tqdm\n",
        "\n",
        "from matplotlib import pyplot as plt\n",
        "from tensorflow.keras import layers\n",
        "from typing import Any, List, Sequence, Tuple\n",
        "\n",
        "\n",
        "# Create the environment\n",
        "env = gym.make(\"CartPole-v1\")\n",
        "\n",
        "# Set seed for experiment reproducibility\n",
        "seed = 42\n",
        "tf.random.set_seed(seed)\n",
        "np.random.seed(seed)\n",
        "\n",
        "# Small epsilon value for stabilizing division operations\n",
        "eps = np.finfo(np.float32).eps.item()"
      ]
    },
    {
      "cell_type": "markdown",
      "metadata": {
        "id": "AOUCe2D0iUJu"
      },
      "source": [
        "## 模型\n",
        "\n",
        "将使用分别生成动作概率和评价者值的神经网络来对*行动者*和*评价者*进行建模。本教程使用模型子类化来定义模型。\n",
        "\n",
        "在前向传递过程中，模型将状态作为输入，并将输出动作概率和评价者价值 $V$，后者会对与状态相关的[价值函数](https://spinningup.openai.com/en/latest/spinningup/rl_intro.html#value-functions)进行建模。目标是训练一个基于可使预期[回报](https://spinningup.openai.com/en/latest/spinningup/rl_intro.html#reward-and-return)最大化的策略 $\\pi$ 来选择动作的模型。\n",
        "\n",
        "对于 `CartPole-v0`，有四个值来表示状态：小车位置、小车速度、长杆角度和长杆速度。代理可以采取两种动作分别将小车向左 (`0`) 和向右 (`1`) 推。\n",
        "\n",
        "有关更多信息，请参阅 [Gym 的 Cart Pole 文档页面](https://www.gymlibrary.dev/environments/classic_control/cart_pole/)和 Barto、Sutton 和 Anderson (1983) 所著的 [*Neuronlike adaptive elements that can solve difficult learning control problems*](http://www.derongliu.org/adp/adp-cdrom/Barto1983.pdf)。\n"
      ]
    },
    {
      "cell_type": "code",
      "execution_count": 6,
      "metadata": {
        "id": "aXKbbMC-kmuv"
      },
      "outputs": [],
      "source": [
        "class ActorCritic(tf.keras.Model):\n",
        "  \"\"\"Combined actor-critic network.\"\"\"\n",
        "\n",
        "  def __init__(\n",
        "      self, \n",
        "      num_actions: int, \n",
        "      num_hidden_units: int):\n",
        "    \"\"\"Initialize.\"\"\"\n",
        "    super().__init__()\n",
        "\n",
        "    self.common = layers.Dense(num_hidden_units, activation=\"relu\")\n",
        "    self.actor = layers.Dense(num_actions)\n",
        "    self.critic = layers.Dense(1)\n",
        "\n",
        "  def call(self, inputs: tf.Tensor) -> Tuple[tf.Tensor, tf.Tensor]:\n",
        "    x = self.common(inputs)\n",
        "    return self.actor(x), self.critic(x)"
      ]
    },
    {
      "cell_type": "code",
      "execution_count": 7,
      "metadata": {
        "id": "nWyxJgjLn68c"
      },
      "outputs": [],
      "source": [
        "num_actions = env.action_space.n  # 2\n",
        "num_hidden_units = 128\n",
        "\n",
        "model = ActorCritic(num_actions, num_hidden_units)"
      ]
    },
    {
      "cell_type": "markdown",
      "metadata": {
        "id": "hk92njFziUJw"
      },
      "source": [
        "## 训练代理\n",
        "\n",
        "要训练代理，您将按照以下步骤操作：\n",
        "\n",
        "1. 在环境上运行代理以收集每个片段的训练数据。\n",
        "2. 计算每个时间步骤的预期回报。\n",
        "3. 计算组合的 Actor-Critic 模型的损失。\n",
        "4. 计算梯度并更新网络参数。\n",
        "5. 重复第 1-4 步，直至达到成功标准或最大片段数。\n"
      ]
    },
    {
      "cell_type": "markdown",
      "metadata": {
        "id": "R2nde2XDs8Gh"
      },
      "source": [
        "### 1. 收集训练数据\n",
        "\n",
        "与监督学习中一样，为了训练 Actor-Critic 模型，我们需要拥有训练数据。但是，为了收集此类数据，需要在环境中“运行”模型。\n",
        "\n",
        "我们收集每个片段的训练数据。随后，在每个时间步骤，将在环境的状态下运行模型的前向传递，以便基于由模型权重参数化的当前策略来生成动作概率和评价者价值。\n",
        "\n",
        "将根据模型生成的动作概率对下一个动作进行采样，然后将其应用于环境，这会生成下一个状态和奖励。\n",
        "\n",
        "此过程在 `run_episode` 函数中实现，该函数使用 TensorFlow 运算，以便稍后可以将其编译为 TensorFlow 计算图以实现更快的训练。请注意，需要使用 `tf.TensorArray` 来支持可变长度数组上的 Tensor 迭代。"
      ]
    },
    {
      "cell_type": "code",
      "execution_count": 8,
      "metadata": {
        "id": "5URrbGlDSAGx"
      },
      "outputs": [],
      "source": [
        "# Wrap Gym's `env.step` call as an operation in a TensorFlow function.\n",
        "# This would allow it to be included in a callable TensorFlow graph.\n",
        "\n",
        "def env_step(action: np.ndarray) -> Tuple[np.ndarray, np.ndarray, np.ndarray]:\n",
        "  \"\"\"Returns state, reward and done flag given an action.\"\"\"\n",
        "\n",
        "  state, reward, done, truncated, info = env.step(action)\n",
        "  return (state.astype(np.float32), \n",
        "          np.array(reward, np.int32), \n",
        "          np.array(done, np.int32))\n",
        "\n",
        "\n",
        "def tf_env_step(action: tf.Tensor) -> List[tf.Tensor]:\n",
        "  return tf.numpy_function(env_step, [action], \n",
        "                           [tf.float32, tf.int32, tf.int32])"
      ]
    },
    {
      "cell_type": "code",
      "execution_count": 9,
      "metadata": {
        "id": "a4qVRV063Cl9"
      },
      "outputs": [],
      "source": [
        "def run_episode(\n",
        "    initial_state: tf.Tensor,  \n",
        "    model: tf.keras.Model, \n",
        "    max_steps: int) -> Tuple[tf.Tensor, tf.Tensor, tf.Tensor]:\n",
        "  \"\"\"Runs a single episode to collect training data.\"\"\"\n",
        "\n",
        "  action_probs = tf.TensorArray(dtype=tf.float32, size=0, dynamic_size=True)\n",
        "  values = tf.TensorArray(dtype=tf.float32, size=0, dynamic_size=True)\n",
        "  rewards = tf.TensorArray(dtype=tf.int32, size=0, dynamic_size=True)\n",
        "\n",
        "  initial_state_shape = initial_state.shape\n",
        "  state = initial_state\n",
        "\n",
        "  for t in tf.range(max_steps):\n",
        "    # Convert state into a batched tensor (batch size = 1)\n",
        "    state = tf.expand_dims(state, 0)\n",
        "  \n",
        "    # Run the model and to get action probabilities and critic value\n",
        "    action_logits_t, value = model(state)\n",
        "  \n",
        "    # Sample next action from the action probability distribution\n",
        "    action = tf.random.categorical(action_logits_t, 1)[0, 0]\n",
        "    action_probs_t = tf.nn.softmax(action_logits_t)\n",
        "\n",
        "    # Store critic values\n",
        "    values = values.write(t, tf.squeeze(value))\n",
        "\n",
        "    # Store log probability of the action chosen\n",
        "    action_probs = action_probs.write(t, action_probs_t[0, action])\n",
        "  \n",
        "    # Apply action to the environment to get next state and reward\n",
        "    state, reward, done = tf_env_step(action)\n",
        "    state.set_shape(initial_state_shape)\n",
        "  \n",
        "    # Store reward\n",
        "    rewards = rewards.write(t, reward)\n",
        "\n",
        "    if tf.cast(done, tf.bool):\n",
        "      break\n",
        "\n",
        "  action_probs = action_probs.stack()\n",
        "  values = values.stack()\n",
        "  rewards = rewards.stack()\n",
        "  \n",
        "  return action_probs, values, rewards"
      ]
    },
    {
      "cell_type": "markdown",
      "metadata": {
        "id": "lBnIHdz22dIx"
      },
      "source": [
        "### 2. 计算预期回报\n",
        "\n",
        "将在一个片段内收集到的每个时间步骤的奖励序列 $t$, ${r_{t}}^{T}{em0}{t=1}$ 转换为预期回报序列 ${G{/em0}{t}}^{T}_{t=1}$，其中，奖励的总和来自于当前时间步骤 $t$ 到 $T$，每个奖励都会乘以按指数衰减的折扣因子 $\\gamma$：\n",
        "\n",
        "$$G_{t} = \\sum^{T}*{t'=t} \\gamma^{t'-t}r*{t'}$$\n",
        "\n",
        "由于 $\\gamma\\in(0,1)$，距离当前时间步骤更远的奖励的权重较小。\n",
        "\n",
        "从直觉上看，预期回报只是意味着现在的回报要优于以后的回报。从数学意义上讲，这是为了确保奖励的总和收敛。\n",
        "\n",
        "为了稳定训练，我们还将生成的回报序列标准化（即均值和单位标准差为零）。\n"
      ]
    },
    {
      "cell_type": "code",
      "execution_count": 10,
      "metadata": {
        "id": "jpEwFyl315dl"
      },
      "outputs": [],
      "source": [
        "def get_expected_return(\n",
        "    rewards: tf.Tensor, \n",
        "    gamma: float, \n",
        "    standardize: bool = True) -> tf.Tensor:\n",
        "  \"\"\"Compute expected returns per timestep.\"\"\"\n",
        "\n",
        "  n = tf.shape(rewards)[0]\n",
        "  returns = tf.TensorArray(dtype=tf.float32, size=n)\n",
        "\n",
        "  # Start from the end of `rewards` and accumulate reward sums\n",
        "  # into the `returns` array\n",
        "  rewards = tf.cast(rewards[::-1], dtype=tf.float32)\n",
        "  discounted_sum = tf.constant(0.0)\n",
        "  discounted_sum_shape = discounted_sum.shape\n",
        "  for i in tf.range(n):\n",
        "    reward = rewards[i]\n",
        "    discounted_sum = reward + gamma * discounted_sum\n",
        "    discounted_sum.set_shape(discounted_sum_shape)\n",
        "    returns = returns.write(i, discounted_sum)\n",
        "  returns = returns.stack()[::-1]\n",
        "\n",
        "  if standardize:\n",
        "    returns = ((returns - tf.math.reduce_mean(returns)) / \n",
        "               (tf.math.reduce_std(returns) + eps))\n",
        "\n",
        "  return returns"
      ]
    },
    {
      "cell_type": "markdown",
      "metadata": {
        "id": "qhr50_Czxazw"
      },
      "source": [
        "### 3. Actor-Critic 损失\n",
        "\n",
        "由于使用的是混合 Actor-Critic 模型，会选择将行动者损失与评价者损失相结合的损失函数来进行训练，如下所示：\n",
        "\n",
        "$$L = L_{actor} + L_{critic}$$"
      ]
    },
    {
      "cell_type": "markdown",
      "metadata": {
        "id": "nOQIJuG1xdTH"
      },
      "source": [
        "#### 行动者损失\n",
        "\n",
        "行动者损失基于[将评价者作为状态相关基线的策略梯度](https://www.youtube.com/watch?v=EKqxumCuAAY&t=62m23s)，并使用单个样本（每个片段）的估计值进行计算。\n",
        "\n",
        "$$L_{actor} = -\\sum^{T}*{t=1} log\\pi*{\\theta}(a_{t} | s_{t})[G(s_{t}, a_{t})  - V^{\\pi}*{\\theta}(s*{t})]$$\n",
        "\n",
        "其中：\n",
        "\n",
        "- $T$：每个片段的时间步骤数，各个片段可能有所不同\n",
        "- $s_{t}$：时间步骤 $t$ 的状态\n",
        "- $a_{t}$：对于给定状态 $s$，在时间步骤 $t$ 选择的动作\n",
        "- $\\pi_{\\theta}$：由 $\\theta$ 参数化的策略（行动者）\n",
        "- $V^{\\pi}_{\\theta}$：由 $\\theta$ 参数化的价值函数（评价者）\n",
        "- $G = G_{t}$：对于给定状态，在时间步骤 $t$ 采取的动作对的预期回报\n",
        "\n",
        "向总和添加一个负数项，因为我们希望通过最大程度减少组合损失来尽可能提高产生更高奖励的动作的概率。\n",
        "\n",
        "<br>"
      ]
    },
    {
      "cell_type": "markdown",
      "metadata": {
        "id": "Y304O4OAxiAv"
      },
      "source": [
        "##### 优势\n",
        "\n",
        "$L_{actor}$ 公式中的 $G - V$ 项称为[优势](https://spinningup.openai.com/en/latest/spinningup/rl_intro.html#advantage-functions)，它表示针对给定的特定状态采取的动作要比根据用于该状态的策略 $\\pi$ 选择的随机动作好得多。\n",
        "\n",
        "尽管可以排除基线，但这可能会导致训练期间出现高方差。选择评价者 $V$ 作为基线的好处是，它可以训练得尽可能接近 $G$，从而降低方差。\n",
        "\n",
        "此外，在没有评价者时，该算法将尝试根据预期回报来提高针对特定状态采取的动作的概率，如果动作之间的相对概率保持相同，可能不会有太大的区别。\n",
        "\n",
        "例如，假设给定状态的两个动作将产生相同的预期回报。在没有评价者时，该算法将基于目标 $J$ 尝试提高这些动作的概率。在有评价者时，结果可能是不存在优势 ($G - V = 0$)，这对于提高动作的概率没有任何益处，并且算法会将梯度设置为零。\n",
        "\n",
        "<br>"
      ]
    },
    {
      "cell_type": "markdown",
      "metadata": {
        "id": "1hrPLrgGxlvb"
      },
      "source": [
        "#### The Critic loss\n",
        "\n",
        "可以将 $V$ 训练得尽可能接近 $G$，这样便可将评价者损失设置为具有以下损失函数的回归问题：\n",
        "\n",
        "$$L_{critic} = L_{\\delta}(G, V^{\\pi}_{\\theta})$$\n",
        "\n",
        "其中 $L_{\\delta}$ 是 [Huber 损失](https://en.wikipedia.org/wiki/Huber_loss)，它对数据中离群值的敏感性低于平方误差损失。\n"
      ]
    },
    {
      "cell_type": "code",
      "execution_count": 11,
      "metadata": {
        "id": "9EXwbEez6n9m"
      },
      "outputs": [],
      "source": [
        "huber_loss = tf.keras.losses.Huber(reduction=tf.keras.losses.Reduction.SUM)\n",
        "\n",
        "def compute_loss(\n",
        "    action_probs: tf.Tensor,  \n",
        "    values: tf.Tensor,  \n",
        "    returns: tf.Tensor) -> tf.Tensor:\n",
        "  \"\"\"Computes the combined Actor-Critic loss.\"\"\"\n",
        "\n",
        "  advantage = returns - values\n",
        "\n",
        "  action_log_probs = tf.math.log(action_probs)\n",
        "  actor_loss = -tf.math.reduce_sum(action_log_probs * advantage)\n",
        "\n",
        "  critic_loss = huber_loss(values, returns)\n",
        "\n",
        "  return actor_loss + critic_loss"
      ]
    },
    {
      "cell_type": "markdown",
      "metadata": {
        "id": "HSYkQOmRfV75"
      },
      "source": [
        "### 4. 定义训练步骤以更新参数\n",
        "\n",
        "将上述所有步骤组合成一个每个片段都会运行的训练步骤。使用 `tf.GradientTape` 上下文来执行损失函数之前的所有步骤，以实现自动微分。\n",
        "\n",
        "本教程使用 Adam 优化器将梯度应用于模型参数。\n",
        "\n",
        "无折扣奖励的总和 `` 也会在此步骤中计算。此值稍后将用于评估是否满足成功标准。\n",
        "\n",
        "将 `tf.function` 上下文应用于 `train_step` 函数，这样便可将其编译为可调用的 TensorFlow 计算图，进而可以将训练速度提高 10 倍。\n"
      ]
    },
    {
      "cell_type": "code",
      "execution_count": 12,
      "metadata": {
        "id": "QoccrkF3IFCg"
      },
      "outputs": [],
      "source": [
        "optimizer = tf.keras.optimizers.Adam(learning_rate=0.01)\n",
        "\n",
        "\n",
        "@tf.function\n",
        "def train_step(\n",
        "    initial_state: tf.Tensor, \n",
        "    model: tf.keras.Model, \n",
        "    optimizer: tf.keras.optimizers.Optimizer, \n",
        "    gamma: float, \n",
        "    max_steps_per_episode: int) -> tf.Tensor:\n",
        "  \"\"\"Runs a model training step.\"\"\"\n",
        "\n",
        "  with tf.GradientTape() as tape:\n",
        "\n",
        "    # Run the model for one episode to collect training data\n",
        "    action_probs, values, rewards = run_episode(\n",
        "        initial_state, model, max_steps_per_episode) \n",
        "\n",
        "    # Calculate the expected returns\n",
        "    returns = get_expected_return(rewards, gamma)\n",
        "\n",
        "    # Convert training data to appropriate TF tensor shapes\n",
        "    action_probs, values, returns = [\n",
        "        tf.expand_dims(x, 1) for x in [action_probs, values, returns]] \n",
        "\n",
        "    # Calculate the loss values to update our network\n",
        "    loss = compute_loss(action_probs, values, returns)\n",
        "\n",
        "  # Compute the gradients from the loss\n",
        "  grads = tape.gradient(loss, model.trainable_variables)\n",
        "\n",
        "  # Apply the gradients to the model's parameters\n",
        "  optimizer.apply_gradients(zip(grads, model.trainable_variables))\n",
        "\n",
        "  episode_reward = tf.math.reduce_sum(rewards)\n",
        "\n",
        "  return episode_reward"
      ]
    },
    {
      "cell_type": "markdown",
      "metadata": {
        "id": "HFvZiDoAflGK"
      },
      "source": [
        "### 5. 运行训练循环\n",
        "\n",
        "通过运行训练步骤来执行训练，直到达到成功标准或最大片段数。\n",
        "\n",
        "使用队列保存片段奖励的运行记录。达到 100 次试验后，将删除队列尾端（左侧）的最早奖励，同时将最新奖励添加到队列头部（右侧）。此外，还会保持奖励的运行总和以提高计算效率。\n",
        "\n",
        "根据您的运行时，训练可以在不到一分钟的时间内完成。"
      ]
    },
    {
      "cell_type": "code",
      "execution_count": 13,
      "metadata": {
        "id": "kbmBxnzLiUJx"
      },
      "outputs": [
        {
          "name": "stderr",
          "output_type": "stream",
          "text": [
            " 15%|█▍        | 1458/10000 [11:21<1:06:34,  2.14it/s, episode_reward=500, running_reward=478]"
          ]
        },
        {
          "name": "stdout",
          "output_type": "stream",
          "text": [
            "\n",
            "Solved at episode 1458: average reward: 478.01!\n",
            "CPU times: user 27min 22s, sys: 2min 6s, total: 29min 28s\n",
            "Wall time: 11min 21s\n"
          ]
        },
        {
          "name": "stderr",
          "output_type": "stream",
          "text": [
            "\n"
          ]
        }
      ],
      "source": [
        "%%time\n",
        "\n",
        "min_episodes_criterion = 100\n",
        "max_episodes = 10000\n",
        "max_steps_per_episode = 500\n",
        "\n",
        "# `CartPole-v1` is considered solved if average reward is >= 475 over 500 \n",
        "# consecutive trials\n",
        "reward_threshold = 475\n",
        "running_reward = 0\n",
        "\n",
        "# The discount factor for future rewards\n",
        "gamma = 0.99\n",
        "\n",
        "# Keep the last episodes reward\n",
        "episodes_reward: collections.deque = collections.deque(maxlen=min_episodes_criterion)\n",
        "\n",
        "t = tqdm.trange(max_episodes)\n",
        "for i in t:\n",
        "    initial_state, info = env.reset()\n",
        "    initial_state = tf.constant(initial_state, dtype=tf.float32)\n",
        "    episode_reward = int(train_step(\n",
        "        initial_state, model, optimizer, gamma, max_steps_per_episode))\n",
        "    \n",
        "    episodes_reward.append(episode_reward)\n",
        "    running_reward = statistics.mean(episodes_reward)\n",
        "  \n",
        "\n",
        "    t.set_postfix(\n",
        "        episode_reward=episode_reward, running_reward=running_reward)\n",
        "  \n",
        "    # Show the average episode reward every 10 episodes\n",
        "    if i % 10 == 0:\n",
        "      pass # print(f'Episode {i}: average reward: {avg_reward}')\n",
        "  \n",
        "    if running_reward > reward_threshold and i >= min_episodes_criterion:  \n",
        "        break\n",
        "\n",
        "print(f'\\nSolved at episode {i}: average reward: {running_reward:.2f}!')"
      ]
    },
    {
      "cell_type": "markdown",
      "metadata": {
        "id": "ru8BEwS1EmAv"
      },
      "source": [
        "## 可视化\n",
        "\n",
        "训练后，最好呈现模型在环境中的表现。您可以运行下面的单元来生成模型的一次片段运行的 GIF 动画。请注意，需要为 Gym 安装附加软件包，以便在 Colab 中正确呈现环境图像。"
      ]
    },
    {
      "cell_type": "code",
      "execution_count": 15,
      "metadata": {
        "id": "qbIMMkfmRHyC"
      },
      "outputs": [],
      "source": [
        "# Render an episode and save as a GIF file\n",
        "\n",
        "from IPython import display as ipythondisplay\n",
        "from PIL import Image\n",
        "\n",
        "render_env = gym.make(\"CartPole-v1\", render_mode='rgb_array')\n",
        "\n",
        "def render_episode(env: gym.Env, model: tf.keras.Model, max_steps: int): \n",
        "  state, info = env.reset()\n",
        "  state = tf.constant(state, dtype=tf.float32)\n",
        "  screen = env.render()\n",
        "  images = [Image.fromarray(screen)]\n",
        " \n",
        "  for i in range(1, max_steps + 1):\n",
        "    state = tf.expand_dims(state, 0)\n",
        "    action_probs, _ = model(state)\n",
        "    action = np.argmax(np.squeeze(action_probs))\n",
        "\n",
        "    state, reward, done, truncated, info = env.step(action)\n",
        "    state = tf.constant(state, dtype=tf.float32)\n",
        "\n",
        "    # Render screen every 10 steps\n",
        "    if i % 10 == 0:\n",
        "      screen = env.render()\n",
        "      images.append(Image.fromarray(screen))\n",
        "  \n",
        "    if done:\n",
        "      break\n",
        "  \n",
        "  return images\n",
        "\n",
        "\n",
        "# Save GIF image\n",
        "images = render_episode(render_env, model, max_steps_per_episode)\n",
        "image_file = temp_dir/'cartpole-v1.gif'\n",
        "# loop=0: loop forever, duration=1: play each frame for 1ms\n",
        "images[0].save(\n",
        "    image_file, save_all=True, append_images=images[1:], loop=0, duration=1)"
      ]
    },
    {
      "cell_type": "code",
      "execution_count": 16,
      "metadata": {
        "id": "TLd720SejKmf"
      },
      "outputs": [
        {
          "data": {
            "text/html": [
              "<img src=\"data:image/gif;base64,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\"/>"
            ],
            "text/plain": [
              "<IPython.core.display.HTML object>"
            ]
          },
          "execution_count": 16,
          "metadata": {},
          "output_type": "execute_result"
        }
      ],
      "source": [
        "import tensorflow_docs.vis.embed as embed\n",
        "embed.embed_file(image_file)"
      ]
    },
    {
      "cell_type": "markdown",
      "metadata": {
        "id": "lnq9Hzo1Po6X"
      },
      "source": [
        "## 后续步骤\n",
        "\n",
        "本教程演示了如何使用 Tensorflow 实现 Actor-Critic 方法。\n",
        "\n",
        "接下来，您可以尝试在 Gym 的不同环境中训练模型。\n",
        "\n",
        "有关 Actor-Critic 方法和 Cartpole-v0 问题的其他信息，您可以参考以下资源：\n",
        "\n",
        "- [Actor-Critic 方法](https://hal.inria.fr/hal-00840470/document)\n",
        "- [Actor-Critic 讲座 (CAL)](https://www.youtube.com/watch?v=EKqxumCuAAY&list=PLkFD6_40KJIwhWJpGazJ9VSj9CFMkb79A&index=7&t=0s)\n",
        "- [Cart Pole 学习控制问题 [Barto 等人，1983 年]](http://www.derongliu.org/adp/adp-cdrom/Barto1983.pdf)\n",
        "\n",
        "有关 TensorFlow 中的更多强化学习示例，您可以查看以下资源：\n",
        "\n",
        "- [强化学习代码示例 (keras.io)](https://keras.io/examples/rl/)\n",
        "- [TF-Agents 强化学习库](https://tensorflow.google.cn/agents)\n"
      ]
    }
  ],
  "metadata": {
    "colab": {
      "collapsed_sections": [
        "_jQ1tEQCxwRx"
      ],
      "name": "actor_critic.ipynb",
      "toc_visible": true
    },
    "kernelspec": {
      "display_name": "xxx",
      "language": "python",
      "name": "python3"
    },
    "language_info": {
      "codemirror_mode": {
        "name": "ipython",
        "version": 3
      },
      "file_extension": ".py",
      "mimetype": "text/x-python",
      "name": "python",
      "nbconvert_exporter": "python",
      "pygments_lexer": "ipython3",
      "version": "3.12.2"
    }
  },
  "nbformat": 4,
  "nbformat_minor": 0
}
